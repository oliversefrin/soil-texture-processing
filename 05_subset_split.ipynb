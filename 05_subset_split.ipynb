{
 "cells": [
  {
   "cell_type": "markdown",
   "metadata": {},
   "source": [
    "# Create tiled subset split csv files\n",
    "\n",
    "This Jupyter Notebook can be used to divide the merged .tif file (created by *04_merge_tifs.sh* with argument _TRAIN_) into tiles of variable tilesize. Next, the tiles are randomly (although with fixed random seed for repeatability) split into 3 subsets *train*, *test* and *validation* and saved as .csv files.\n",
    "\n",
    "\n",
    "**Table of Contents**\n",
    "\n",
    "+ [1. Set variables and dictionaries](#1.-Set-variables-and-dictionaries)\n",
    "+ [2. Helper functions](#2.-Helper-functions)\n",
    "+ [3. Create tiled subset split](#3.-Create-tiled-subset-split)\n",
    "+ [4. Visualisation: plot subset split map](#4.-Visualisation:-plot-subset-split-map)\n",
    "\n",
    "\n",
    "***\n",
    "### packages"
   ]
  },
  {
   "cell_type": "code",
   "execution_count": 1,
   "metadata": {},
   "outputs": [
    {
     "name": "stdout",
     "output_type": "stream",
     "text": [
      "The history saving thread hit an unexpected error (DatabaseError('database disk image is malformed')).History will not be written to the database.\n"
     ]
    }
   ],
   "source": [
    "import numpy as np\n",
    "import pandas as pd\n",
    "import matplotlib.pyplot as plt\n",
    "from skimage.io import imread"
   ]
  },
  {
   "cell_type": "markdown",
   "metadata": {},
   "source": [
    "***\n",
    "\n",
    "## 1. Set variables and dictionaries"
   ]
  },
  {
   "cell_type": "code",
   "execution_count": 2,
   "metadata": {},
   "outputs": [],
   "source": [
    "# variables:\n",
    "\n",
    "# name of the parameter that has been added to the sentinel bands ( = last band in *_merged.tif )\n",
    "parameter = 'BOART_N'\n",
    "# define the size of the quadratic tiles, shape will be (tile_size, tile_size, nr_bands+1)\n",
    "tile_size = 16\n",
    "# gap, i.e. number of pixel to lie between neighbouring tiles\n",
    "tile_sep = 2\n",
    "# processing level of the sentinel-2 image\n",
    "level = 'L2A'\n",
    "# date of the sentinel-2 image\n",
    "date = '20161206'\n",
    "\n",
    "# fraction of pixel used to generate train tiles\n",
    "train_frac = 0.6\n",
    "# fraction of pixel used to generate validation tiles\n",
    "valid_frac = 0.2\n",
    "# remaining fraction ( = 1 - train_frac - valid_frac) will be fraction of test tiles"
   ]
  },
  {
   "cell_type": "markdown",
   "metadata": {},
   "source": [
    "***\n",
    "\n",
    "## 2. Helper functions"
   ]
  },
  {
   "cell_type": "code",
   "execution_count": 3,
   "metadata": {},
   "outputs": [],
   "source": [
    "def get_tile_nrs_from_df(df):\n",
    "    \"\"\"\n",
    "    Get a DataFrame containing only rows of unique (row_nr, col_nr) pairs of a MultiIndex DataFrame.\n",
    "    \n",
    "    Basically build a new df containing only the 'row_nr' and 'col_nr'.\n",
    "    \"\"\"\n",
    "    \n",
    "    # df.xs() allows to index by a certain index level\n",
    "    # reduces the data to the first pixel of every tile,\n",
    "    # therefore every row has a unique (row_nr, col_nr) pair\n",
    "    \n",
    "    return pd.DataFrame(data={'row_nr': df.xs(0, level='pixel_nr').index.get_level_values(0),\n",
    "                              'col_nr': df.xs(0, level='pixel_nr').index.get_level_values(1)})\n",
    "\n",
    "\n",
    "def make_split_df(full_tile_df, df_tile_nrs):\n",
    "    \"\"\"\n",
    "    Get a split of the MultiIndex DataFrame with all tiles by passing a DataFrame \n",
    "    containing all the (row_nr, col_nr) pairs of the desired split as data.\n",
    "    \"\"\"\n",
    "    tile_index_list = list(zip(df_tile_nrs['row_nr'].to_list(), df_tile_nrs['col_nr'].to_list()))\n",
    "    \n",
    "    train_indices = []\n",
    "    for tile_nrs in tile_index_list:\n",
    "        for i in range(tile_size**2):\n",
    "            train_indices.append((tile_nrs[0], tile_nrs[1], i))\n",
    "\n",
    "    split_df = full_tile_df.loc[train_indices, :]\n",
    "    \n",
    "    return split_df"
   ]
  },
  {
   "cell_type": "markdown",
   "metadata": {},
   "source": [
    "***\n",
    "\n",
    "## 3. Create tiled subset split\n",
    "\n",
    "### 3.1. Pandas DataFrame"
   ]
  },
  {
   "cell_type": "code",
   "execution_count": 4,
   "metadata": {},
   "outputs": [],
   "source": [
    "# read tif\n",
    "data = imread(f'data/training_data/{date}_data/{date}_{level}_merged.tif')\n",
    "height, width = data.shape[0], data.shape[1]\n",
    "\n",
    "if level == 'L1C':\n",
    "    bands = [\"b1\", \"b2\", \"b3\", \"b4\", \"b5\", \"b6\", \"b7\", \"b8\", \"b9\", \"b10\", \"b11\", \"b12\", \"b8a\"]\n",
    "else:\n",
    "    bands = ['b1', 'b2', 'b3', 'b4', 'b5', 'b6', 'b7', 'b8', 'b9', 'b11', 'b12', 'b8a', 'AOT', 'WVP', 'CLD', 'SCL', 'SNW']\n",
    "\n",
    "tuples = ()\n",
    "\n",
    "index = pd.MultiIndex.from_tuples(tuples, names=['row_nr', 'col_nr', 'pixel_nr'])\n",
    "\n",
    "full_tile_df = pd.DataFrame(index=index, columns=bands+[parameter])\n",
    "\n",
    "nr_tile_rows = height // (tile_size+tile_sep)\n",
    "nr_tile_cols = width // (tile_size+tile_sep)\n",
    "\n",
    "for i in range(nr_tile_rows):\n",
    "    for j in range(nr_tile_cols):\n",
    "        # get a tile\n",
    "        # tiles separated by \"tile_sep\" pixel\n",
    "        tile = data[i*(tile_size+tile_sep):(i+1)*(tile_size+tile_sep)-tile_sep, \n",
    "                    j*(tile_size+tile_sep):(j+1)*(tile_size+tile_sep)-tile_sep, \n",
    "                    :]\n",
    "        \n",
    "        # exclude tiles that have pixel outside Sentinel-2 image area\n",
    "        # or pixel outside area of shapefile\n",
    "        if np.all(tile[:, :, len(bands)]) and np.all(tile[:, :, 0]):\n",
    "            tile_flat = np.empty((tile_size**2, tile.shape[2]))\n",
    "            for k in range(tile.shape[2]):\n",
    "                tile_flat[..., k] = tile[..., k].flatten()\n",
    "\n",
    "            iterables = [[i], [j], np.arange(tile_size**2)]\n",
    "            tile_df = pd.DataFrame(data=tile_flat,\n",
    "                                   columns=bands+[parameter],\n",
    "                                   index=pd.MultiIndex.from_product(iterables, names=['row_nr', 'col_nr', 'pixel_nr'])\n",
    "                                  )\n",
    "            full_tile_df = full_tile_df.append(tile_df)"
   ]
  },
  {
   "cell_type": "markdown",
   "metadata": {},
   "source": [
    "### 3.2. Optional: add new columns to DataFrame"
   ]
  },
  {
   "cell_type": "code",
   "execution_count": 5,
   "metadata": {},
   "outputs": [],
   "source": [
    "# dict with names corresponding to each integer:\n",
    "soil_texture_dict = {1: 'Sl3',\n",
    "                     2: 'Slu',\n",
    "                     3: 'Uls',\n",
    "                     4: 'Sl4',\n",
    "                     5: 'Lu',\n",
    "                     6: 'Ls2',\n",
    "                     7: 'Ls3',\n",
    "                     8: 'Sl2',\n",
    "                     9: 'Ha',\n",
    "                     10: 'Ut2',\n",
    "                     11: None}\n",
    "\n",
    "\n",
    "# super_U: silt\n",
    "# super_S: sand\n",
    "# super_L: loam\n",
    "# super_T: clay\n",
    "superclass_dict = {1: 'super_U', \n",
    "                   2: 'super_S', \n",
    "                   3: 'super_L', \n",
    "                   4: 'super_T'}\n",
    "\n",
    "superclass_dict_inv = {v: k for k, v in superclass_dict.items()}\n",
    "\n",
    "\n",
    "\n",
    "def get_soil_texture_superclass(category_name):\n",
    "    \"\"\"Combine classes to superclasses.\"\"\"\n",
    "    \n",
    "    if category_name in [\"Uu\", \"Us\", \"Ut2\", \"Ut3\", \"Ut4\", \"Uls\", \"Lu\"]:\n",
    "        return \"super_U\"\n",
    "    \n",
    "    elif category_name in [\"Tt\", \"Tl\", \"Ts2\", \"Tu2\", \"Tu3\", \"Tu4\", \"Lt3\"]:\n",
    "        return \"super_T\"\n",
    "    \n",
    "    elif category_name in [\"Ss\", \"St2\", \"Su2\", \"Su3\", \"Su4\", \"Sl2\",\n",
    "                           \"Sl3\", \"mSgs\"]:\n",
    "        return \"super_S\"\n",
    "    \n",
    "    elif category_name in [\"Ls2\", \"Ls3\", \"Ls4\", \"Lt2\", \"Lts\", \"Ts3\", \"Ts4\", \"St3\", \"Sl4\", \"Slu\"]:\n",
    "        return \"super_L\"\n",
    "    \n",
    "    elif category_name == \"Ha\":\n",
    "        return \"Ha\"\n",
    "    else:\n",
    "        print(\"Warning: Category {0} was not included into superclasses.\"\n",
    "              .format(category_name))\n",
    "        return category_name"
   ]
  },
  {
   "cell_type": "code",
   "execution_count": 6,
   "metadata": {},
   "outputs": [],
   "source": [
    "# get superclasses\n",
    "full_tile_df['BOART'] = full_tile_df['BOART_N'].map(soil_texture_dict)\n",
    "full_tile_df['Soil_superclass'] = full_tile_df['BOART'].apply(get_soil_texture_superclass)\n",
    "full_tile_df['Soil_superclass_N'] = full_tile_df['Soil_superclass'].map(superclass_dict_inv)"
   ]
  },
  {
   "cell_type": "markdown",
   "metadata": {},
   "source": [
    "### 3.3. Split DataFrame "
   ]
  },
  {
   "cell_type": "code",
   "execution_count": 7,
   "metadata": {},
   "outputs": [],
   "source": [
    "# split df \n",
    "tile_nrs = pd.DataFrame(data={'row_nr': full_tile_df.xs(0, level='pixel_nr').index.get_level_values(0), \n",
    "                              'col_nr': full_tile_df.xs(0, level='pixel_nr').index.get_level_values(1)})\n",
    "\n",
    "\n",
    "train_tile_nrs = tile_nrs.sample(frac=train_frac, \n",
    "                                 random_state=1)\n",
    "\n",
    "valid_tile_nrs = tile_nrs.drop(index=train_tile_nrs.index).sample(frac=valid_frac/(1-train_frac), \n",
    "                                                                  random_state=1)\n",
    "\n",
    "test_tile_nrs = tile_nrs.drop(index=valid_tile_nrs.index).drop(index=train_tile_nrs.index)\n",
    "\n",
    "# make split dfs\n",
    "train_l1c = make_split_df(full_tile_df, train_tile_nrs)\n",
    "valid_l1c = make_split_df(full_tile_df, valid_tile_nrs)\n",
    "test_l1c = make_split_df(full_tile_df, test_tile_nrs)"
   ]
  },
  {
   "cell_type": "markdown",
   "metadata": {},
   "source": [
    "### 3.4. Save subset splits"
   ]
  },
  {
   "cell_type": "code",
   "execution_count": 8,
   "metadata": {},
   "outputs": [],
   "source": [
    "train_l1c.to_csv(f'data/training_data/{date}_data/{date}_{level}_tilesize_{tile_size}_train.csv',\n",
    "                 sep=',', \n",
    "                 encoding='utf-8')\n",
    "\n",
    "valid_l1c.to_csv(f'data/training_data/{date}_data/{date}_{level}_tilesize_{tile_size}_validation.csv',\n",
    "                 sep=',', \n",
    "                 encoding='utf-8')\n",
    "\n",
    "test_l1c.to_csv(f'data/training_data/{date}_data/{date}_{level}_tilesize_{tile_size}_test.csv',\n",
    "                sep=',', \n",
    "                encoding='utf-8')"
   ]
  },
  {
   "cell_type": "markdown",
   "metadata": {},
   "source": [
    "### 3.5. Example: load subset split"
   ]
  },
  {
   "cell_type": "code",
   "execution_count": 12,
   "metadata": {},
   "outputs": [],
   "source": [
    "# csv files can either be loaded using the MultiIndex (row_nr, col_nr, pixel_nr) or ignoring it\n",
    "\n",
    "\n",
    "# without MultiIndex:\n",
    "train_l1c = pd.read_csv(f'data/training_data/{date}_data/{date}_{level}_tilesize_{tile_size}_train.csv', \n",
    "                        sep=',', \n",
    "                        encoding='utf-8')\n"
   ]
  },
  {
   "cell_type": "code",
   "execution_count": 10,
   "metadata": {},
   "outputs": [],
   "source": [
    "# with MultiIndex:\n",
    "train_l1c = pd.read_csv(f'data/training_data/{date}_data/{date}_{level}_tilesize_{tile_size}_train.csv', \n",
    "                        sep=',', \n",
    "                        encoding='utf-8',\n",
    "                        index_col=['row_nr', 'col_nr', 'pixel_nr'])"
   ]
  },
  {
   "cell_type": "markdown",
   "metadata": {},
   "source": [
    "***\n",
    "\n",
    "## 4. Visualisation: plot subset split map"
   ]
  },
  {
   "cell_type": "code",
   "execution_count": 13,
   "metadata": {},
   "outputs": [],
   "source": [
    "split_map = np.zeros((2174, 1530), dtype=int)\n",
    "\n",
    "# code splits:\n",
    "# train: 1\n",
    "# valid: 2\n",
    "# test:  3\n",
    "\n",
    "dfs = [get_tile_nrs_from_df(train_l1c), get_tile_nrs_from_df(valid_l1c), get_tile_nrs_from_df(test_l1c)]\n",
    "\n",
    "for k, split_df in enumerate(dfs):\n",
    "    for (i, j) in list(zip(split_df['row_nr'], split_df['col_nr'])):\n",
    "        # e.g. tile_sep = 2:\n",
    "        # make every step 2 pixel bigger, then select 2 pixel less in each direction\n",
    "        split_map[\n",
    "            i*(tile_size+tile_sep):(i+1)*(tile_size+tile_sep)-tile_sep,\n",
    "            j*(tile_size+tile_sep):(j+1)*(tile_size+tile_sep)-tile_sep\n",
    "        ] = np.full((tile_size, tile_size), k+1)"
   ]
  },
  {
   "cell_type": "code",
   "execution_count": 15,
   "metadata": {},
   "outputs": [
    {
     "data": {
      "image/png": "[encoded data removed]",
      "text/plain": [
       "<Figure size 1440x1440 with 1 Axes>"
      ]
     },
     "metadata": {
      "needs_background": "light"
     },
     "output_type": "display_data"
    }
   ],
   "source": [
    "plt.figure(figsize=(20, 20))\n",
    "plt.imshow(split_map)\n",
    "plt.title(f'Subset split map')\n",
    "plt.axis('off')\n",
    "# plt.savefig(f'data/subset_split_map.png')\n",
    "plt.show()"
   ]
  },
  {
   "cell_type": "code",
   "execution_count": null,
   "metadata": {},
   "outputs": [],
   "source": []
  }
 ],
 "metadata": {
  "kernelspec": {
   "display_name": "Python 3",
   "language": "python",
   "name": "python3"
  },
  "language_info": {
   "codemirror_mode": {
    "name": "ipython",
    "version": 3
   },
   "file_extension": ".py",
   "mimetype": "text/x-python",
   "name": "python",
   "nbconvert_exporter": "python",
   "pygments_lexer": "ipython3",
   "version": "3.7.3"
  }
 },
 "nbformat": 4,
 "nbformat_minor": 2
}
